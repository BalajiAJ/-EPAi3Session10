{
 "cells": [
  {
   "cell_type": "markdown",
   "metadata": {},
   "source": [
    "# Testing Polygon class"
   ]
  },
  {
   "cell_type": "code",
   "execution_count": 14,
   "metadata": {},
   "outputs": [
    {
     "name": "stdout",
     "output_type": "stream",
     "text": [
      "The properties of Polygon instance created are: \n",
      "\n",
      "number of vertices = 3 \n",
      "number of edges = 3 \n",
      "Edge Length = 6.928203230275509 \n",
      "interior angle = 60.0 \n",
      "apothem = 2.0000000000000004 \n",
      "area = 6.9282032302755105 \n",
      "perimeter = 20.784609690826528\n"
     ]
    }
   ],
   "source": [
    "from polygon import Polygon"
   ]
  },
  {
   "cell_type": "code",
   "execution_count": 15,
   "metadata": {},
   "outputs": [],
   "source": [
    "p1 = Polygon(12, 20) # No. of vertices/edges: 12, circumradius: 20\n",
    "p2 = Polygon(12, 20) # No. of vertices/edges: 12, circumradius: 20\n",
    "p3 = Polygon(15, 25) # No. of vertices/edges: 15, circumradius: 25"
   ]
  },
  {
   "cell_type": "code",
   "execution_count": 16,
   "metadata": {},
   "outputs": [
    {
     "data": {
      "text/plain": [
       "Polygon(                \n",
       "\tNumber of vertices/edges = 12,                \n",
       "\tCircumradius = 20,                \n",
       "\tInterior angle = 150.0 degrees,                \n",
       "\tEdge length = 10.35 units,                \n",
       "\tApothem = 19.32 units,                \n",
       "\tArea = 100.00 sq. units,                \n",
       "\tPerimeter = 124.23 units,                \n",
       "\t)"
      ]
     },
     "execution_count": 16,
     "metadata": {},
     "output_type": "execute_result"
    }
   ],
   "source": [
    "p1"
   ]
  },
  {
   "cell_type": "code",
   "execution_count": 17,
   "metadata": {},
   "outputs": [
    {
     "data": {
      "text/plain": [
       "Polygon(                \n",
       "\tNumber of vertices/edges = 12,                \n",
       "\tCircumradius = 20,                \n",
       "\tInterior angle = 150.0 degrees,                \n",
       "\tEdge length = 10.35 units,                \n",
       "\tApothem = 19.32 units,                \n",
       "\tArea = 100.00 sq. units,                \n",
       "\tPerimeter = 124.23 units,                \n",
       "\t)"
      ]
     },
     "execution_count": 17,
     "metadata": {},
     "output_type": "execute_result"
    }
   ],
   "source": [
    "p2"
   ]
  },
  {
   "cell_type": "code",
   "execution_count": 18,
   "metadata": {},
   "outputs": [
    {
     "data": {
      "text/plain": [
       "Polygon(                \n",
       "\tNumber of vertices/edges = 15,                \n",
       "\tCircumradius = 25,                \n",
       "\tInterior angle = 156.0 degrees,                \n",
       "\tEdge length = 10.40 units,                \n",
       "\tApothem = 24.45 units,                \n",
       "\tArea = 127.11 sq. units,                \n",
       "\tPerimeter = 155.93 units,                \n",
       "\t)"
      ]
     },
     "execution_count": 18,
     "metadata": {},
     "output_type": "execute_result"
    }
   ],
   "source": [
    "p3"
   ]
  },
  {
   "cell_type": "code",
   "execution_count": 19,
   "metadata": {},
   "outputs": [
    {
     "name": "stdout",
     "output_type": "stream",
     "text": [
      "Polygon P1\n",
      "Number of Vartices: 12\n",
      "Number of edges: 12\n",
      "Circumradius: 20\n",
      "Interior angle: 150.0\n",
      "Edge length: 10.35276180410083\n",
      "Apothem: 19.318516525781366\n",
      "Area: 99.99999999999999\n",
      "Perimeter: 124.23314164920995\n"
     ]
    }
   ],
   "source": [
    "print(\"Polygon P1\")\n",
    "print(f\"Number of Vartices: {p1.vertices}\")\n",
    "print(f\"Number of edges: {p1.edges}\")\n",
    "print(f\"Circumradius: {p1.circumradius}\")\n",
    "print(f\"Interior angle: {p1.interior_angle}\")\n",
    "print(f\"Edge length: {p1.edge_length}\")\n",
    "print(f\"Apothem: {p1.apothem}\")\n",
    "print(f\"Area: {p1.area}\")\n",
    "print(f\"Perimeter: {p1.perimeter}\")"
   ]
  },
  {
   "cell_type": "markdown",
   "metadata": {},
   "source": [
    "# Testing Polysequence class"
   ]
  },
  {
   "cell_type": "code",
   "execution_count": 24,
   "metadata": {},
   "outputs": [
    {
     "name": "stdout",
     "output_type": "stream",
     "text": [
      "Represents a Polygon with \n",
      "Number of vertices/edges = 25,             \n",
      "Circumradius = 10,             \n",
      "and also returns a polygon with highest area perimeter ratio             \n"
     ]
    }
   ],
   "source": [
    "from polysequence import PolySeq"
   ]
  },
  {
   "cell_type": "code",
   "execution_count": 25,
   "metadata": {},
   "outputs": [],
   "source": [
    "seq = PolySeq(25, 10) # Max edge count: 25, common circumradius: 10"
   ]
  },
  {
   "cell_type": "code",
   "execution_count": 26,
   "metadata": {},
   "outputs": [
    {
     "data": {
      "text/plain": [
       "23"
      ]
     },
     "execution_count": 26,
     "metadata": {},
     "output_type": "execute_result"
    }
   ],
   "source": [
    "len(seq) # Polygon with edges 3 to 25 = 23"
   ]
  },
  {
   "cell_type": "code",
   "execution_count": 27,
   "metadata": {},
   "outputs": [
    {
     "data": {
      "text/plain": [
       "Polygon(                \n",
       "\tNumber of vertices/edges = 3,                \n",
       "\tCircumradius = 10,                \n",
       "\tInterior angle = 60.0 degrees,                \n",
       "\tEdge length = 17.32 units,                \n",
       "\tApothem = 5.00 units,                \n",
       "\tArea = 43.30 sq. units,                \n",
       "\tPerimeter = 51.96 units,                \n",
       "\t)"
      ]
     },
     "execution_count": 27,
     "metadata": {},
     "output_type": "execute_result"
    }
   ],
   "source": [
    "seq[0]"
   ]
  },
  {
   "cell_type": "code",
   "execution_count": 28,
   "metadata": {},
   "outputs": [
    {
     "data": {
      "text/plain": [
       "Polygon(                \n",
       "\tNumber of vertices/edges = 25,                \n",
       "\tCircumradius = 10,                \n",
       "\tInterior angle = 165.6 degrees,                \n",
       "\tEdge length = 2.51 units,                \n",
       "\tApothem = 9.92 units,                \n",
       "\tArea = 12.43 sq. units,                \n",
       "\tPerimeter = 62.67 units,                \n",
       "\t)"
      ]
     },
     "execution_count": 28,
     "metadata": {},
     "output_type": "execute_result"
    }
   ],
   "source": [
    "seq[-1]"
   ]
  },
  {
   "cell_type": "code",
   "execution_count": 12,
   "metadata": {},
   "outputs": [
    {
     "ename": "NameError",
     "evalue": "name 'seq' is not defined",
     "output_type": "error",
     "traceback": [
      "\u001b[1;31m---------------------------------------------------------------------------\u001b[0m",
      "\u001b[1;31mNameError\u001b[0m                                 Traceback (most recent call last)",
      "\u001b[1;32m<ipython-input-12-aeeac288535f>\u001b[0m in \u001b[0;36m<module>\u001b[1;34m\u001b[0m\n\u001b[1;32m----> 1\u001b[1;33m \u001b[0mseq\u001b[0m\u001b[1;33m.\u001b[0m\u001b[0mmax_eff_polygon\u001b[0m\u001b[1;33m\u001b[0m\u001b[1;33m\u001b[0m\u001b[0m\n\u001b[0m",
      "\u001b[1;31mNameError\u001b[0m: name 'seq' is not defined"
     ]
    }
   ],
   "source": [
    "seq.max_eff_polygon"
   ]
  },
  {
   "cell_type": "code",
   "execution_count": 13,
   "metadata": {},
   "outputs": [
    {
     "ename": "NameError",
     "evalue": "name 'seq' is not defined",
     "output_type": "error",
     "traceback": [
      "\u001b[1;31m---------------------------------------------------------------------------\u001b[0m",
      "\u001b[1;31mNameError\u001b[0m                                 Traceback (most recent call last)",
      "\u001b[1;32m<ipython-input-13-872435954968>\u001b[0m in \u001b[0;36m<module>\u001b[1;34m\u001b[0m\n\u001b[1;32m----> 1\u001b[1;33m \u001b[0mseq\u001b[0m\u001b[1;33m[\u001b[0m\u001b[1;33m:\u001b[0m\u001b[1;36m3\u001b[0m\u001b[1;33m]\u001b[0m\u001b[1;33m\u001b[0m\u001b[1;33m\u001b[0m\u001b[0m\n\u001b[0m",
      "\u001b[1;31mNameError\u001b[0m: name 'seq' is not defined"
     ]
    }
   ],
   "source": [
    "seq[:3]"
   ]
  },
  {
   "cell_type": "code",
   "execution_count": null,
   "metadata": {},
   "outputs": [],
   "source": []
  }
 ],
 "metadata": {
  "kernelspec": {
   "display_name": "Python 3",
   "language": "python",
   "name": "python3"
  },
  "language_info": {
   "codemirror_mode": {
    "name": "ipython",
    "version": 3
   },
   "file_extension": ".py",
   "mimetype": "text/x-python",
   "name": "python",
   "nbconvert_exporter": "python",
   "pygments_lexer": "ipython3",
   "version": "3.8.3"
  }
 },
 "nbformat": 4,
 "nbformat_minor": 4
}
